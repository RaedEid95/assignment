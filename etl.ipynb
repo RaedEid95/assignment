{
 "cells": [
  {
   "cell_type": "code",
   "execution_count": 1,
   "metadata": {},
   "outputs": [],
   "source": [
    "import producer,consumer\n",
    "import pandas as pd\n",
    "import numpy as np \n",
    "from pmdarima.arima import auto_arima\n",
    "from statsmodels.tsa.statespace.sarimax import SARIMAX\n"
   ]
  },
  {
   "cell_type": "code",
   "execution_count": 2,
   "metadata": {},
   "outputs": [
    {
     "data": {
      "text/plain": [
       "103841"
      ]
     },
     "execution_count": 2,
     "metadata": {},
     "output_type": "execute_result"
    }
   ],
   "source": [
    "def process(file_path):\n",
    "\n",
    "    df =  pd.read_csv(file_path)\n",
    "    df = df.drop('AccountOID', axis=1)\n",
    "    dates = df['ConsumptionDate'].to_list()\n",
    "    all_dates = pd.date_range(dates[0], dates[-1])\n",
    "    all_dates_df = pd.DataFrame(pd.date_range(dates[0], dates[-1]), columns=['ConsumptionDate'])\n",
    "    df['ConsumptionDate'] = pd.to_datetime(df['ConsumptionDate'])\n",
    "    df = pd.merge(all_dates_df, df, on='ConsumptionDate', how='left')\n",
    "    df['Consumption'] = df['Consumption'].fillna(0)\n",
    "    df[\"ConsumptionDate\"] = pd.to_datetime(df[\"ConsumptionDate\"])\n",
    "    df.loc[df['Consumption'] > 800, 'Consumption'] = df['Consumption'].median()\n",
    "    df['ConsumptionDate'] = df['ConsumptionDate'].astype(str)\n",
    "    df.reset_index(drop=True, inplace=True)\n",
    "    return df\n",
    "\n",
    "\n",
    "data_processed = process(\"dataset.csv\")\n",
    "\n",
    "data_processed.shape[0]"
   ]
  },
  {
   "cell_type": "code",
   "execution_count": 3,
   "metadata": {},
   "outputs": [
    {
     "data": {
      "text/plain": [
       "ConsumptionDate     object\n",
       "Consumption        float64\n",
       "dtype: object"
      ]
     },
     "execution_count": 3,
     "metadata": {},
     "output_type": "execute_result"
    }
   ],
   "source": [
    "df = data_processed.to_dict('records')\n",
    "data_processed.dtypes\n",
    "# print(df)"
   ]
  },
  {
   "cell_type": "code",
   "execution_count": 4,
   "metadata": {},
   "outputs": [
    {
     "name": "stdout",
     "output_type": "stream",
     "text": [
      "[Error 3] UnknownTopicOrPartitionError: Request 'DeleteTopicsRequest_v3(topics=['stable_topic'], timeout=30000)' failed with response 'DeleteTopicsResponse_v3(throttle_time_ms=0, topic_error_codes=[(topic='stable_topic', error_code=3)])'.\n",
      "CPU times: user 32.8 s, sys: 3.4 s, total: 36.2 s\n",
      "Wall time: 40.2 s\n"
     ]
    }
   ],
   "source": [
    "%%time\n",
    "producer.main(data_processed)\n"
   ]
  },
  {
   "cell_type": "code",
   "execution_count": 5,
   "metadata": {},
   "outputs": [
    {
     "name": "stdout",
     "output_type": "stream",
     "text": [
      "CPU times: user 1.28 s, sys: 16.8 ms, total: 1.3 s\n",
      "Wall time: 6.01 s\n"
     ]
    },
    {
     "data": {
      "text/html": [
       "<div>\n",
       "<style scoped>\n",
       "    .dataframe tbody tr th:only-of-type {\n",
       "        vertical-align: middle;\n",
       "    }\n",
       "\n",
       "    .dataframe tbody tr th {\n",
       "        vertical-align: top;\n",
       "    }\n",
       "\n",
       "    .dataframe thead th {\n",
       "        text-align: right;\n",
       "    }\n",
       "</style>\n",
       "<table border=\"1\" class=\"dataframe\">\n",
       "  <thead>\n",
       "    <tr style=\"text-align: right;\">\n",
       "      <th></th>\n",
       "      <th>Consumption</th>\n",
       "    </tr>\n",
       "    <tr>\n",
       "      <th>ConsumptionDate</th>\n",
       "      <th></th>\n",
       "    </tr>\n",
       "  </thead>\n",
       "  <tbody>\n",
       "    <tr>\n",
       "      <th>2020-02-22</th>\n",
       "      <td>11.070</td>\n",
       "    </tr>\n",
       "    <tr>\n",
       "      <th>2020-02-22</th>\n",
       "      <td>0.000</td>\n",
       "    </tr>\n",
       "    <tr>\n",
       "      <th>2020-02-22</th>\n",
       "      <td>0.000</td>\n",
       "    </tr>\n",
       "    <tr>\n",
       "      <th>2020-02-22</th>\n",
       "      <td>0.153</td>\n",
       "    </tr>\n",
       "    <tr>\n",
       "      <th>2020-02-22</th>\n",
       "      <td>1.461</td>\n",
       "    </tr>\n",
       "    <tr>\n",
       "      <th>...</th>\n",
       "      <td>...</td>\n",
       "    </tr>\n",
       "    <tr>\n",
       "      <th>2021-03-20</th>\n",
       "      <td>0.712</td>\n",
       "    </tr>\n",
       "    <tr>\n",
       "      <th>2021-03-20</th>\n",
       "      <td>0.353</td>\n",
       "    </tr>\n",
       "    <tr>\n",
       "      <th>2021-03-20</th>\n",
       "      <td>0.080</td>\n",
       "    </tr>\n",
       "    <tr>\n",
       "      <th>2021-03-20</th>\n",
       "      <td>1.060</td>\n",
       "    </tr>\n",
       "    <tr>\n",
       "      <th>2021-03-20</th>\n",
       "      <td>0.000</td>\n",
       "    </tr>\n",
       "  </tbody>\n",
       "</table>\n",
       "<p>103841 rows × 1 columns</p>\n",
       "</div>"
      ],
      "text/plain": [
       "                 Consumption\n",
       "ConsumptionDate             \n",
       "2020-02-22            11.070\n",
       "2020-02-22             0.000\n",
       "2020-02-22             0.000\n",
       "2020-02-22             0.153\n",
       "2020-02-22             1.461\n",
       "...                      ...\n",
       "2021-03-20             0.712\n",
       "2021-03-20             0.353\n",
       "2021-03-20             0.080\n",
       "2021-03-20             1.060\n",
       "2021-03-20             0.000\n",
       "\n",
       "[103841 rows x 1 columns]"
      ]
     },
     "execution_count": 5,
     "metadata": {},
     "output_type": "execute_result"
    }
   ],
   "source": [
    "%%time\n",
    "training_data = consumer.main()\n",
    "training_data_df = pd.DataFrame.from_records(training_data)\n",
    "training_data_df['ConsumptionDate'] = pd.to_datetime(training_data_df['ConsumptionDate'])\n",
    "training_data_df = training_data_df.set_index('ConsumptionDate')\n",
    "training_data_df\n"
   ]
  },
  {
   "cell_type": "code",
   "execution_count": 6,
   "metadata": {},
   "outputs": [],
   "source": [
    "def modeling(dataset):\n",
    "\n",
    "    data_size = dataset.shape[0]\n",
    "    test_size = 30\n",
    "    train_X, train_y = dataset[:data_size - test_size], dataset[:data_size - test_size]\n",
    "    test_X, test_y = dataset[data_size - test_size:], dataset[data_size - test_size:]\n",
    "\n",
    "    #Automating ARIMA to choose best parameters    \n",
    "    step_wise = auto_arima(train_y,exogenous= train_X, seasonal=True,start_p=1, start_q=1, max_p=7, max_q=7,\n",
    "    error_action = 'ignore', suppress_warnings = True, stepwise=True, parallel = True, verbose=False)\n",
    "\n",
    "    #SARIMAX modeling with the choosen parameters  \n",
    "    model= SARIMAX(train_y,exog=train_X,order=step_wise.order)\n",
    "    results = model.fit()\n",
    "    #Predictions\n",
    "    predictions = results.predict(start=data_size - test_size, end=data_size - 1, exog=np.array(test_X))\n",
    "\n",
    "    return predictions"
   ]
  },
  {
   "cell_type": "code",
   "execution_count": 7,
   "metadata": {},
   "outputs": [
    {
     "name": "stderr",
     "output_type": "stream",
     "text": [
      "/home/raed/code/assigment/venv/lib/python3.8/site-packages/statsmodels/tsa/base/tsa_model.py:471: ValueWarning: A date index has been provided, but it has no associated frequency information and so will be ignored when e.g. forecasting.\n",
      "  self._init_dates(dates, freq)\n",
      "/home/raed/code/assigment/venv/lib/python3.8/site-packages/statsmodels/tsa/base/tsa_model.py:471: ValueWarning: A date index has been provided, but it has no associated frequency information and so will be ignored when e.g. forecasting.\n",
      "  self._init_dates(dates, freq)\n",
      " This problem is unconstrained.\n"
     ]
    },
    {
     "name": "stdout",
     "output_type": "stream",
     "text": [
      "RUNNING THE L-BFGS-B CODE\n",
      "\n",
      "           * * *\n",
      "\n",
      "Machine precision = 2.220D-16\n",
      " N =            2     M =           10\n",
      "\n",
      "At X0         0 variables are exactly at the bounds\n",
      "\n",
      "At iterate    0    f= -1.05940D+01    |proj g|=  1.43613D+08\n",
      "\n",
      "           * * *\n",
      "\n",
      "Tit   = total number of iterations\n",
      "Tnf   = total number of function evaluations\n",
      "Tnint = total number of segments explored during Cauchy searches\n",
      "Skip  = number of BFGS updates skipped\n",
      "Nact  = number of active bounds at final generalized Cauchy point\n",
      "Projg = norm of the final projected gradient\n",
      "F     = final function value\n",
      "\n",
      "           * * *\n",
      "\n",
      "   N    Tit     Tnf  Tnint  Skip  Nact     Projg        F\n",
      "    2      1     21      1     0     0   1.436D+08  -1.059D+01\n",
      "  F =  -10.593986931765556     \n",
      "\n",
      "ABNORMAL_TERMINATION_IN_LNSRCH                              \n"
     ]
    },
    {
     "name": "stderr",
     "output_type": "stream",
     "text": [
      "\n",
      " Line search cannot locate an adequate point after MAXLS\n",
      "  function and gradient evaluations.\n",
      "  Previous x, f and g restored.\n",
      " Possible causes: 1 error in function or gradient evaluation;\n",
      "                  2 rounding error dominate computation.\n",
      "/home/raed/code/assigment/venv/lib/python3.8/site-packages/statsmodels/base/model.py:604: ConvergenceWarning: Maximum Likelihood optimization failed to converge. Check mle_retvals\n",
      "  warnings.warn(\"Maximum Likelihood optimization failed to \"\n"
     ]
    },
    {
     "name": "stdout",
     "output_type": "stream",
     "text": [
      "CPU times: user 1min 17s, sys: 3min, total: 4min 18s\n",
      "Wall time: 25.9 s\n"
     ]
    },
    {
     "name": "stderr",
     "output_type": "stream",
     "text": [
      "/home/raed/code/assigment/venv/lib/python3.8/site-packages/statsmodels/tsa/base/tsa_model.py:834: ValueWarning: No supported index is available. Prediction results will be given with an integer index beginning at `start`.\n",
      "  return get_prediction_index(\n"
     ]
    },
    {
     "data": {
      "text/plain": [
       "103811      0.000\n",
       "103812      0.001\n",
       "103813      0.000\n",
       "103814      9.030\n",
       "103815      0.952\n",
       "103816     46.915\n",
       "103817      0.122\n",
       "103818      9.202\n",
       "103819      1.761\n",
       "103820      0.515\n",
       "103821      0.453\n",
       "103822      7.369\n",
       "103823      0.519\n",
       "103824      0.514\n",
       "103825      0.117\n",
       "103826      0.000\n",
       "103827    145.761\n",
       "103828      4.903\n",
       "103829      0.000\n",
       "103830      0.077\n",
       "103831      0.273\n",
       "103832     17.895\n",
       "103833    548.600\n",
       "103834      0.886\n",
       "103835      5.089\n",
       "103836      0.712\n",
       "103837      0.353\n",
       "103838      0.080\n",
       "103839      1.060\n",
       "103840      0.000\n",
       "Name: predicted_mean, dtype: float64"
      ]
     },
     "execution_count": 7,
     "metadata": {},
     "output_type": "execute_result"
    }
   ],
   "source": [
    "%%time\n",
    "modeling(training_data_df)"
   ]
  }
 ],
 "metadata": {
  "kernelspec": {
   "display_name": "Python 3.8.10 ('venv')",
   "language": "python",
   "name": "python3"
  },
  "language_info": {
   "codemirror_mode": {
    "name": "ipython",
    "version": 3
   },
   "file_extension": ".py",
   "mimetype": "text/x-python",
   "name": "python",
   "nbconvert_exporter": "python",
   "pygments_lexer": "ipython3",
   "version": "3.8.10"
  },
  "orig_nbformat": 4,
  "vscode": {
   "interpreter": {
    "hash": "6dacfb666fc1b1bb0f7442b835863b258c3dfd36295d35c5aa7b23c415151775"
   }
  }
 },
 "nbformat": 4,
 "nbformat_minor": 2
}
